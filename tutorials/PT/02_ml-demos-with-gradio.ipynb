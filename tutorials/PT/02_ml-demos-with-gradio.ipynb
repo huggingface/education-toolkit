{
 "cells": [
  {
   "cell_type": "markdown",
   "metadata": {
    "id": "gh6QOr-qO4Ym"
   },
   "source": [
    "[![Open In Colab](https://colab.research.google.com/assets/colab-badge.svg)](https://colab.research.google.com/github/huggingface/education-toolkit/blob/main/02_ml-demos-with-gradio.ipynb)\n",
    "\n",
    "\n",
    "\n",
    "💡 **Bem-vindo!**\n",
    "\n",
    "Nós reunimos um conjunto de ferramentas que instrutores universitários e organizadores podem usar para preparar laboratórios, tarefas ou aulas.\n",
    "O conteudo foi projetado de uma forma autocontida, para ser facilmente incorporado no currículo existente. O conteúdo é gratuito e usa\n",
    "tecnologias amplamente reconhecidas como Open Source (`transformers`, `gradio`, etc).\n",
    "\n",
    "Alternativamente, você pode pedir para que alguém no time da Hugging Face rodar os tutoriais para suas aulas via a iniciativa [Tour de demo.cratização de ML](https://huggingface2.notion.site/ML-Demo-cratization-tour-with-66847a294abd4e9785e85663f5239652)!\n",
    "\n",
    "Você também pode encontrar todos os tutoriais e recursos que nós montamos [aqui](https://huggingface2.notion.site/Education-Toolkit-7b4a9a9d65ee4a6eb16178ec2a4f3599)."
   ]
  },
  {
   "cell_type": "markdown",
   "metadata": {
    "id": "NkJmA-r5L0EB"
   },
   "source": [
    "# Tutorial: Construa e Hospede uma demonstração de Aprendizado de Máquina com o Gradio ⚡ & Hugging Face 🤗"
   ]
  },
  {
   "cell_type": "markdown",
   "metadata": {
    "id": "D_Iv1CJZPekG"
   },
   "source": [
    "**Objetivos de aprendizado:** Os objetivos deste tutorial são aprender como\n",
    "\n",
    "1. Construir uma demonstração rápida para o seu modelo de aprendizado de máquina em Python usando a biblioteca `gradio`\n",
    "2. Hospedar a demo de graça com o Hugging Face Spaces\n",
    "3. Adicionar sua demo à Hugging Face org para sua aula ou conferência. Isso incluirá:\n",
    "  * Uma configuração passo a passo para instrutores (ou organizadores de conferências)\n",
    "  * Envio de instruções para estudantes (ou participantes de conferências)\n",
    "\n",
    "**Duração**: 20 a 40\n",
    " minutos\n",
    "\n",
    "**Pré-requisitos:** Conhecimento de Python e familiaridade básica com aprendizado de máquina\n",
    "\n",
    "**Autor**: [Abubakar Abid](https://twitter.com/abidlabs) (feel free to ping me with any questions about this tutorial)\n",
    "**Tradutor**: [Rafael Zimmer](https://github.com/rzimmerdev)\n",
    "\n",
    "Todas as etapas podem ser realizadas de graça! Tudo que você irá precisar é uma conexão à internet e um lugar onde possa programar em Python 👩‍💻"
   ]
  },
  {
   "cell_type": "markdown",
   "metadata": {
    "id": "PR9faV2NWTrG"
   },
   "source": [
    "## Porque ?\n",
    "\n",
    "**Demos** de modelos de aprendizado de máquina são uma parte importante de _cursos_ e _conferências_ sobre aprendizado de máquina. Demonstrações permitem:\n",
    "\n",
    "* que desenvolvedores de modelos **apresentem** os seus trabalhos a uma ampla audiência\n",
    "* um aumento na **reprodutividade** da pesquisa sobre aprendizado de máquina\n",
    "* que usuários *identifiquem e debugem* pontos de falhas de modelos mais facilmente\n",
    "\n",
    "\n",
    "Para um exemplo rápido sobre o que gostariamos de montar, confira o [Keras Org na Hugging Face](https://huggingface.co/keras-io), que inclui uma descrição\n",
    "e uma coleção de Modelos e Espaços construídos pela comunidade do Keras. Qualquer Espaço pode ser aberto em seu navegador, e você poderá usar o modelo imediatamente, como mostrado a seguir:\n",
    "\n",
    "![](https://i.ibb.co/7y6DGjB/ezgif-5-cc52b7e590.gif)\n",
    "\n",
    "\n"
   ]
  },
  {
   "cell_type": "markdown",
   "metadata": {
    "id": "g0KzbU4lQtv3"
   },
   "source": [
    "## 1. Montando demonstrações rápidas em Python de Aprendizado de Máquina usando o Gradio"
   ]
  },
  {
   "cell_type": "markdown",
   "metadata": {
    "id": "rlSs72oUQ1VW"
   },
   "source": [
    "`gradio` é uma biblioteca de Python extremamente útil que permite a construção de demonstrações online simplesmente especificando uma lista de componentes de entrada e saída esperados pelo seu modelo de aprendizado de máquina.\n",
    "\n",
    "O que podem então ser considerados como componentes de entrada e saída? O Gradio vem com um conjunto de componentes pré-definidos para diversos tipos de modelos de aprendizado de máquina. A seguir temos alguns exemplos:\n",
    "\n",
    "* Para um **classificador de imagem**, a entrada esperada é do tipo `Imagem` e a saída do tipo `Label`.\n",
    "* Para um **modelo reconhecedor de fala**, o componente de entrada é do tipo `Microphone` (que permite aos usuários gravar áudio pelo navegador), ou áudio (que permite usuários puxar e soltar arquivos de áudio), enquanto a saída é do tipo `Text`.\n",
    "* Para um **modelo de questões e respostas**, **2 entradas** são esperadas: [`Text`, `Text`], uma para a caixa de texto com um parágrafo, e outro para questão, e a saída é única, do tipo `Text` correspondendo à resposta.\n",
    "\n",
    "Você entendeu a idéia... (para todos os componentes aceitos, [acesse a documentação](https://gradio.app/docs/))\n",
    "\n",
    "Além da entrada e saída, o Gradio espera também um terceiro parâmetro, que é a predição do modelo em si. Esse parâmetro pode ser ***qualquer* função regular do Python** que receba parâmetro(s) correspondendo ao(s) componente(s) de entrada e que tenha como retorno valor(es), correspondendo ao(s) componente(s) de saída.\n",
    "\n",
    "Chega de discutir. Vamos ao programa!"
   ]
  },
  {
   "cell_type": "code",
   "execution_count": 2,
   "metadata": {
    "colab": {
     "base_uri": "https://localhost:8080/"
    },
    "id": "p0MkPbbZbSiP",
    "outputId": "e143c5df-5b98-46c6-f2f7-7fc7abebd3d7"
   },
   "outputs": [],
   "source": [
    "# Primeiro, installe o gradio\n",
    "!pip install --quiet gradio"
   ]
  },
  {
   "cell_type": "code",
   "execution_count": 3,
   "metadata": {
    "id": "SjTxhry8bWS7"
   },
   "outputs": [],
   "source": [
    "import numpy as np\n",
    "\n",
    "def sepia(image):\n",
    "    sepia_filter = np.array(\n",
    "        [[0.393, 0.769, 0.189], \n",
    "         [0.349, 0.686, 0.168], \n",
    "         [0.272, 0.534, 0.131]]\n",
    "    )\n",
    "    sepia_img = image.dot(sepia_filter.T)\n",
    "    sepia_img /= sepia_img.max()\n",
    "    return sepia_img"
   ]
  },
  {
   "cell_type": "code",
   "execution_count": 4,
   "metadata": {
    "id": "OgqlIG2DbrJq"
   },
   "outputs": [
    {
     "name": "stdout",
     "output_type": "stream",
     "text": [
      "Running on local URL:  http://127.0.0.1:7860/\n",
      "Running on public URL: https://10801.gradio.app\n",
      "\n",
      "This share link expires in 72 hours. For free permanent hosting, check out Spaces (https://huggingface.co/spaces)\n"
     ]
    },
    {
     "data": {
      "text/plain": "<IPython.lib.display.IFrame at 0x7faf7d309400>",
      "text/html": "\n        <iframe\n            width=\"900\"\n            height=\"500\"\n            src=\"https://10801.gradio.app\"\n            frameborder=\"0\"\n            allowfullscreen\n            \n        ></iframe>\n        "
     },
     "metadata": {},
     "output_type": "display_data"
    }
   ],
   "source": [
    "import gradio as gr\n",
    "\n",
    "# Escreva uma simples linha para criar uma Interface Gráfica\n",
    "gr.Interface(fn=sepia, inputs=\"image\", outputs=\"image\").launch(share=True);"
   ]
  },
  {
   "cell_type": "markdown",
   "metadata": {
    "id": "0TyTGpSsb7bs"
   },
   "source": [
    "O código acima deverá produzir uma simples interface gráfica dentro do ‘notebook’, que lhe permitirá enviar uma entrada e ver a saída como retorno da sua função.\n",
    "\n",
    "Note também que definimos a `Interface` usando os três ingredientes mencionados anteriormente:\n",
    "* Uma função\n",
    "* Componente(s) de entrada\n",
    "* Componente(s) de saída\n",
    "\n",
    "Fizemos um exemplo simples para imagens, mas a idéia fundamental vale para quaisquer outros tipos de dados. Por exemplo, abaixo há uma interface que irá\n",
    "gerar um tom musical quando receber alguns parâmetros diferentes (o código específico dentro de `generate_tone()` não é importante para os propósitos deste tutorial):"
   ]
  },
  {
   "cell_type": "code",
   "execution_count": null,
   "metadata": {
    "colab": {
     "base_uri": "https://localhost:8080/",
     "height": 643
    },
    "id": "cHiZAO6ub6kA",
    "outputId": "ee9e8bfd-4b86-4ddf-c96d-d389cdc0730e"
   },
   "outputs": [
    {
     "name": "stdout",
     "output_type": "stream",
     "text": [
      "Colab notebook detected. To show errors in colab notebook, set `debug=True` in `launch()`\n",
      "Running on public URL: https://20619.gradio.app\n",
      "\n",
      "This share link expires in 72 hours. For free permanent hosting, check out Spaces (https://huggingface.co/spaces)\n"
     ]
    },
    {
     "data": {
      "text/html": [
       "\n",
       "        <iframe\n",
       "            width=\"900\"\n",
       "            height=\"500\"\n",
       "            src=\"https://20619.gradio.app\"\n",
       "            frameborder=\"0\"\n",
       "            allowfullscreen\n",
       "        ></iframe>\n",
       "        "
      ],
      "text/plain": [
       "<IPython.lib.display.IFrame at 0x7f84a6eaeb10>"
      ]
     },
     "metadata": {},
     "output_type": "display_data"
    },
    {
     "data": {
      "text/plain": [
       "(<fastapi.applications.FastAPI at 0x7f84a8c6f850>,\n",
       " 'http://127.0.0.1:7860/',\n",
       " 'https://20619.gradio.app')"
      ]
     },
     "execution_count": 3,
     "metadata": {},
     "output_type": "execute_result"
    }
   ],
   "source": [
    "import numpy as np\n",
    "import gradio as gr\n",
    "\n",
    "def generate_tone(note, octave, duration):\n",
    "    sampling_rate = 48000\n",
    "    a4_freq, tones_from_a4 = 440, 12 * (octave - 4) + (note - 9)\n",
    "    frequency = a4_freq * 2 ** (tones_from_a4 / 12)\n",
    "    audio = np.linspace(0, int(duration), int(duration) * sampling_rate)\n",
    "    audio = (20000 * np.sin(audio * (2 * np.pi * frequency))).astype(np.int16)\n",
    "    return sampling_rate, audio\n",
    "\n",
    "gr.Interface(\n",
    "    generate_tone,\n",
    "    [\n",
    "        gr.inputs.Dropdown([\"C\", \"C#\", \"D\", \"D#\", \"E\", \"F\", \"F#\", \"G\", \"G#\", \"A\", \"A#\", \"B\"], type=\"index\"),\n",
    "        gr.inputs.Slider(4, 6, step=1),\n",
    "        gr.inputs.Textbox(type=\"number\", default=1, label=\"Duration in seconds\"),\n",
    "    ],\n",
    "    \"audio\",\n",
    "    title=\"Generate a Musical Tone!\"\n",
    ").launch(share=True)"
   ]
  },
  {
   "cell_type": "markdown",
   "metadata": {
    "id": "23gD280-w-kT"
   },
   "source": [
    "**Desafio #1**: construa uma demonstração do Gradio que receba uma imagem e retorne a mesma image *virada de cabeça pra baixo* em menos de 10 linhas de código em Python."
   ]
  },
  {
   "cell_type": "markdown",
   "metadata": {
    "id": "DSE6TZF5e9Oz"
   },
   "source": [
    "Há diversos outros exemplos para você testar na [página de introdução](https://gradio.app/getting_started/) do Gradio, que cobre funcionalidades adicionais, como:\n",
    "* Adicionar exemplos para entradas\n",
    "* Adicionar _estados_ (para chatbots, por exemplo)\n",
    "* Comparar demonstrações facilmente usando o parâmetro `share` (<-- bem interessante 😎)\n",
    "\n",
    "É especialmente fácil transformar um modelo `transformers` do Hugging Face's Model Hub em uma demo, usando o método especial `gr.Interface.load`\n",
    "\n",
    "Testaremos um modelo de texto para fala, construído pelo Facebook:"
   ]
  },
  {
   "cell_type": "code",
   "execution_count": null,
   "metadata": {},
   "outputs": [],
   "source": [
    "import gradio as gr\n",
    "\n",
    "gr.Interface.load(\"huggingface/facebook/fastspeech2-en-ljspeech\").launch(share=True);"
   ]
  },
  {
   "cell_type": "markdown",
   "metadata": {},
   "source": [
    "Aqui é carregado o código para a demo do [GPT-J](https://huggingface.co/EleutherAI/gpt-j-6B), um grande modelo de linguagem & algumas entradas como exemplo:"
   ]
  },
  {
   "cell_type": "code",
   "execution_count": null,
   "metadata": {
    "colab": {
     "base_uri": "https://localhost:8080/",
     "height": 608
    },
    "id": "N_Cobhx8e8v9",
    "outputId": "2bac3837-feff-42ea-a577-60343f19535b"
   },
   "outputs": [
    {
     "name": "stdout",
     "output_type": "stream",
     "text": [
      "Fetching model from: https://huggingface.co/EleutherAI/gpt-j-6B\n",
      "Colab notebook detected. To show errors in colab notebook, set `debug=True` in `launch()`\n",
      "Running on public URL: https://30262.gradio.app\n",
      "\n",
      "This share link expires in 72 hours. For free permanent hosting, check out Spaces (https://huggingface.co/spaces)\n"
     ]
    },
    {
     "data": {
      "text/html": [
       "\n",
       "        <iframe\n",
       "            width=\"900\"\n",
       "            height=\"500\"\n",
       "            src=\"https://30262.gradio.app\"\n",
       "            frameborder=\"0\"\n",
       "            allowfullscreen\n",
       "        ></iframe>\n",
       "        "
      ],
      "text/plain": [
       "<IPython.lib.display.IFrame at 0x7f1a12d753d0>"
      ]
     },
     "metadata": {},
     "output_type": "display_data"
    }
   ],
   "source": [
    "import gradio as gr\n",
    "\n",
    "examples = [[\"The Moon's orbit around Earth has\"], [\"There once was a pineapple\"]]\n",
    "\n",
    "gr.Interface.load(\"huggingface/EleutherAI/gpt-j-6B\", examples=examples).launch(share=True);"
   ]
  },
  {
   "cell_type": "markdown",
   "metadata": {
    "id": "EoUYf0rYksA9"
   },
   "source": [
    "**Desafio #2**: vá para o [Model Hub da Hugging Face](https://huggingface.co/models) e escolha um modelo que realize alguma das outras tarefas aceitas pela biblioteca de `transformers` (diferente dos dois que você acabou de ver: geração de texto e texto para fala). Crie uma demonstração do Gradio para o modelo usando o `gr.Interface.load`."
   ]
  },
  {
   "cell_type": "markdown",
   "metadata": {
    "id": "b6Ek7cORgDkQ"
   },
   "source": [
    "## 3. Hospede a Demo (de graça) no Hugging Face Spaces\n",
    "\n",
    "Quando tiver feito a demonstração com o Gradio, poderá hospedá-la permanentemente no Hugging Face Spaces facilmente:\n",
    "\n",
    "A seguir estão os passos a seguir (demonstrados no GIF abaixo):\n",
    "\n",
    "A. Primeiro, crie uma conta na Hugging Face se já não tiver uma; visite https://huggingface.co/ and clicking e clique em \"Sign Up\"\n",
    "\n",
    "B. Após entrar, clique na sua foto de perfil e depois clique em \"Novo Espaço\", logo abaixo para chegar nessa página: https://huggingface.co/new-space\n",
    "\n",
    "C. Dê um nome ao seu espaço e uma licença. Selecione \"Gradio\" como o SDK do Space, e selecione \"Público\" se decidir dar acesso ao seu Space para todos e o código dentro do mesmo\n",
    "\n",
    "D. No mesmo ambiente, há uma página com instruções de como carregar arquvios do seu repositório Git para o Space. Será necessário\n",
    "adicionar um arquiv `requirements.txt` para especificar quaisquer dependências de pacotes do Python.\n",
    "\n",
    "E. Após enviar seus arquivos, sente-se e relaxe! Os Spaces irão automaticamente construir a sua demonstração do Gradio, permitindo que você as compartilhe com qualquer um, em qualquer lugar!\n",
    "\n",
    "![GIF](https://huggingface.co/blog/assets/28_gradio-spaces/spaces-demo-finalized.gif)\n",
    "\n",
    "\n",
    "\n"
   ]
  },
  {
   "cell_type": "markdown",
   "metadata": {
    "id": "d4XCmQ_RILoq"
   },
   "source": [
    "Você pode até embutir a sua demonstração do Gradio em qualquer página — seja num blog, em um portfólio online, ou até mesmo em um Notebook do Colab, como foi feito a seguir com um modelo de reconhecimento de retratos do Pictionary:"
   ]
  },
  {
   "cell_type": "code",
   "execution_count": null,
   "metadata": {
    "id": "IwNP5DJOKUql"
   },
   "outputs": [],
   "source": [
    "from IPython.display import IFrame\n",
    "IFrame(src='https://hf.space/gradioiframe/abidlabs/Draw/+', width=1000, height=800)"
   ]
  },
  {
   "cell_type": "markdown",
   "metadata": {
    "id": "Dw6H-iQAlF8I"
   },
   "source": [
    "**Desafio #3**: Carregue a sua demonstração do Gradio para o Hugging Face Spaces e receba um link permanente para o mesmo. Divulgue o link permanente com alguém (um colega, colaborador, amigo, usuário, etc.) - e receba opiniões sobre o seu modelo de aprendizado de máquina."
   ]
  },
  {
   "cell_type": "markdown",
   "metadata": {
    "id": "MqD0O1PKIg3g"
   },
   "source": [
    "## 3. Adicione sua demo a Hugging Face org para sua aula ou conferência"
   ]
  },
  {
   "cell_type": "markdown",
   "metadata": {
    "id": "DrMObQbwLOHm"
   },
   "source": [
    "#### **Setup** (para instrutores ou organizadores de conferências)"
   ]
  },
  {
   "cell_type": "markdown",
   "metadata": {
    "id": "_45C7MnXNbc0"
   },
   "source": [
    "A. Primeiro, crie uma conta na Hugging Face se já não tiver uma; visite https://huggingface.co/ e clique em \"Sign Up\"\n",
    "\n",
    "B. Após entrar, clique na sua foto de perfil e depois clique em \"Nova Organização\" logo abaixo para acessar essa página: https://huggingface.co/organizations/new\n",
    "\n",
    "C. Preencha a informação relativa a sua aula ou conferência. Recomendamos criar uma organização separada toda vez que um curso diferente for dado (por exemplo, \"Stanford-CS236g-2022\") ou para cada ano em que houver a conferência.\n",
    "\n",
    "D. Sua organização será criada, e agora novos usuários poderão enviar pedidos de inscrição ao visitar a página da sua organização.\n",
    "\n",
    "E. Opcionalmente, você também pode mudar as configurações ao clicar em \"Organization settings\". Tipicamente, para aulas e conferências, deverá ir em `Settings > Members` e mudar a \"Default role for new members\" (cargo padrão para novos membros) para \"write\" (escrever), o que permitirá novos membros enviar Spaces, mas não mudar as configurações da organização."
   ]
  },
  {
   "cell_type": "markdown",
   "metadata": {
    "id": "iSqzO-w8LY0R"
   },
   "source": [
    "#### Para estudantes ou participantes de conferências"
   ]
  },
  {
   "cell_type": "markdown",
   "metadata": {
    "id": "3x1Oyh4wOdOK",
    "pycharm": {
     "name": "#%% md\n"
    }
   },
   "source": [
    "A. Peça a seu instrutor / organizador da conferência pelo link da página da Organização, se já não o tiver.\n",
    "\n",
    "B. Visite a página da Organização e clique em \"Request to join this org\" (Pedir para se juntar à essa organização), se já não fizer parte da mesma.\n",
    "\n",
    "C. Finalmente, após ter sido aprovado para entrar (e já ter construído sua demonstração do Gradio e enviado para o Spaces - retorne à Seção 1 e 2 para ver como), simplesmente vá ao seu Space e acesse `Settings > Rename or transfer this space` (renomear ou transferir este Space) e selecione a organização desejada no menu `New owner`. Clique no botão para confirmar e o seu Space já será adicionado ao Space do seu curso ou conferência."
   ]
  }
 ],
 "metadata": {
  "colab": {
   "collapsed_sections": [],
   "name": "Building and Hosting Machine Learning Demos with Gradio & Hugging Face",
   "provenance": []
  },
  "kernelspec": {
   "display_name": "Python 3",
   "language": "python",
   "name": "python3"
  },
  "language_info": {
   "codemirror_mode": {
    "name": "ipython",
    "version": 3
   },
   "file_extension": ".py",
   "mimetype": "text/x-python",
   "name": "python",
   "nbconvert_exporter": "python",
   "pygments_lexer": "ipython3",
   "version": "3.9.5"
  }
 },
 "nbformat": 4,
 "nbformat_minor": 1
}