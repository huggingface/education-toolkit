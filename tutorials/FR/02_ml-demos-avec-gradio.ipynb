{
 "cells": [
  {
   "cell_type": "markdown",
   "metadata": {
    "id": "gh6QOr-qO4Ym"
   },
   "source": [
    "[![Ouvrir dans Colab](https://colab.research.google.com/assets/colab-badge.svg)](https://colab.research.google.com/github/huggingface/education-toolkit/blob/main/03_getting-started-with-transformers.ipynb)\n",
    "\n",
    "💡 **Bienvenue!**\n",
    "\n",
    "Nous avons assemblé une boite à outil que les professeurs du supérieur peuvent utiliser pour préparer des séances de travaux dirigés, des cours ou des devoirs. Le contenu est autonome, de manière à ce qu'il puisse être intégrer dans un cours pré-existant. Le contenu est gratuit et utilise des technologies Open Source connues (`transformers`, `gradio`, etc).\n",
    "\n",
    "Il est aussi possible de demander à un membre de l'équipe d'Hugging Face de présenter les tutoriels dans un de vos cours via l'initiative [ML demo.cratization tour](https://www.notion.so/ML-Demo-cratization-tour-with-66847a294abd4e9785e85663f5239652) !\n",
    "\n",
    "Vous pouvez trouver toutes les ressources que nous avons rassemblées [ici](https://huggingface2.notion.site/Education-Toolkit-7b4a9a9d65ee4a6eb16178ec2a4f3599). "
   ]
  },
  {
   "cell_type": "markdown",
   "metadata": {
    "id": "NkJmA-r5L0EB"
   },
   "source": [
    "# Tutoriel : Construire et héberger des démos d'apprentissage automatique avec Gradio ⚡ et Hugging Face 🤗"
   ]
  },
  {
   "cell_type": "markdown",
   "metadata": {
    "id": "D_Iv1CJZPekG"
   },
   "source": [
    "**Buts de l'apprentissage :** Le but de ce tutoriel est d'apprendre comment\n",
    "\n",
    "1. Construire une démo rapide pour votre modèle d'apprentissage automatique en Python en utilisant la bibliothèque `gradio`.\n",
    "2. Héberger les démos gratuitement avec Hugging Face *Spaces*.\n",
    "3. Ajoutez votre démo à l'org Hugging Face pour votre classe ou conférence. Cela comprend :\n",
    "  * Une étape de configuration pour les instructeurs (ou organisateurs de conférence)\n",
    "  * Des instructions de téléchargement pour les étudiants (ou les participants à la conférence)\n",
    "\n",
    "**Durée** : 20-40  minutes\n",
    "\n",
    "**Prérequis** : Connaissance de Python et connaissance de base de l'apprentissage automatique.\n",
    "\n",
    "\n",
    "**Auteur** : [Abubakar Abid](https://twitter.com/abidlabs) (n'hésitez pas à me contacter pour toute question sur ce tutoriel) \n",
    "\n",
    "Toutes ces étapes peuvent être réalisées gratuitement ! Tout ce dont vous avez besoin est un navigateur Internet et un endroit où vous pouvez écrire du Python 👩💻"
   ]
  },
  {
   "cell_type": "markdown",
   "metadata": {
    "id": "PR9faV2NWTrG"
   },
   "source": [
    "## Pourquoi des démos ?\n",
    "\n",
    "**Les démos** de modèles d'apprentissage automatique constituent une partie de plus en plus importante des cours et des conférences sur l'apprentissage automatique. Les démos permettent :\n",
    "\n",
    "* Aux développeurs de modèles de **présenter** facilement leur travail à un large public.\n",
    "* D'augmenter la **reproductibilité** de la recherche en apprentissage automatique.\n",
    "* Aux divers utilisateurs de **identifier et de déboguer** plus facilement les points de défaillance des modèles.\n",
    "\n",
    "\n",
    "Pour un exemple rapide de ce que nous aimerions construire, consultez l'organisation [Keras sur Hugging Face](https://huggingface.co/keras-io), qui comprend une fiche descriptive et une collection de modèles et de *Spaces* construits par la communauté Keras. Tout espace peut être ouvert dans votre navigateur et vous pouvez utiliser le modèle immédiatement, comme indiqué ici : \n",
    "\n",
    "![](https://i.ibb.co/7y6DGjB/ezgif-5-cc52b7e590.gif)\n",
    "\n",
    "\n"
   ]
  },
  {
   "cell_type": "markdown",
   "metadata": {
    "id": "g0KzbU4lQtv3"
   },
   "source": [
    "## 1. Créer des démonstrations rapides d'apprentissage automatique en Python à l'aide de la bibliothèque Gradio"
   ]
  },
  {
   "cell_type": "markdown",
   "metadata": {
    "id": "rlSs72oUQ1VW"
   },
   "source": [
    "Gradio est une bibliothèque Python très pratique qui vous permet de construire des démos web en spécifiant simplement la liste des composants d'entrée et de sortie attendus par votre modèle d'apprentissage automatique. \n",
    "\n",
    "Qu'est-ce que j'entends par composants d'entrée et de sortie ? Gradio est livré avec un grand nombre de composants prédéfinis pour différents types de modèles d'apprentissage automatique. Voici quelques exemples :\n",
    "\n",
    "* Pour un **classifieur d'images**, le type d'entrée attendu est une `Image` et le type de sortie est un `Label`. \n",
    "* Pour un **modèle de reconnaissance vocale**, le composant d'entrée attendu est un `Microphone` (qui permet aux utilisateurs d'enregistrer depuis le navigateur) ou un `Audio` (qui permet aux utilisateurs de glisser-déposer des fichiers audio), tandis que le type de sortie est un `Text`. \n",
    "* Pour un **modèle de réponse aux questions**, nous attendons **2 entrées** : [`Text`, `Text`], une zone de texte pour le paragraphe et une pour la question, et le type de sortie est un seul `Text` correspondant à la réponse. \n",
    "\n",
    "Vous voyez l'idée... (pour tous les composants supportés, [voir la documentation](https://gradio.app/docs/))\n",
    "\n",
    "En plus des types d'entrée et de sortie, Gradio attend un troisième paramètre, qui est la fonction de prédiction elle-même. Ce paramètre peut être ***n'importe quelle* fonction Python standard** qui prend en entrée les paramètres correspondant aux composants d'entrée et retourne les valeurs correspondant aux composants de sortie.\n",
    "\n",
    "Assez de mots. Voyons un peu de code !"
   ]
  },
  {
   "cell_type": "code",
   "execution_count": null,
   "metadata": {
    "colab": {
     "base_uri": "https://localhost:8080/"
    },
    "id": "p0MkPbbZbSiP",
    "outputId": "e143c5df-5b98-46c6-f2f7-7fc7abebd3d7"
   },
   "outputs": [],
   "source": [
    "# Nous installons d'abord Gradio\n",
    "!pip install --quiet gradio"
   ]
  },
  {
   "cell_type": "code",
   "execution_count": null,
   "metadata": {
    "id": "SjTxhry8bWS7"
   },
   "outputs": [],
   "source": [
    "import numpy as np\n",
    "\n",
    "def sepia(image):\n",
    "    sepia_filter = np.array(\n",
    "        [[0.393, 0.769, 0.189], \n",
    "         [0.349, 0.686, 0.168], \n",
    "         [0.272, 0.534, 0.131]]\n",
    "    )\n",
    "    sepia_img = image.dot(sepia_filter.T)\n",
    "    sepia_img /= sepia_img.max()\n",
    "    return sepia_img"
   ]
  },
  {
   "cell_type": "code",
   "execution_count": null,
   "metadata": {
    "id": "OgqlIG2DbrJq"
   },
   "outputs": [],
   "source": [
    "import gradio as gr\n",
    "\n",
    "# Écrire une ligne de Python pour créer une interface graphique simple.\n",
    "gr.Interface(fn=sepia, inputs=\"image\", outputs=\"image\").launch();"
   ]
  },
  {
   "cell_type": "markdown",
   "metadata": {
    "id": "0TyTGpSsb7bs"
   },
   "source": [
    "L'exécution du code ci-dessus devrait produire une interface graphique simple à l'intérieur de ce *notebook* vous permettant de taper des entrées d'exemple et de voir la sortie retournée par votre fonction. \n",
    "\n",
    "Remarquez que nous définissons une `Interface` en utilisant les 3 ingrédients mentionnés précédemment :\n",
    "* Une fonction\n",
    "* Composant(s) d'entrée\n",
    "* Composant(s) de sortie\n",
    "\n",
    "Il s'agit d'un exemple simple pour les images, mais le même principe s'applique à tout autre type de données. Par exemple, voici une interface qui génère une tonalité musicale lorsqu'on lui fournit quelques paramètres différents (le code spécifique à l'intérieur de `generate_tone()` n'est pas important dans le cadre de ce tutoriel) :"
   ]
  },
  {
   "cell_type": "code",
   "execution_count": null,
   "metadata": {
    "colab": {
     "base_uri": "https://localhost:8080/",
     "height": 643
    },
    "id": "cHiZAO6ub6kA",
    "outputId": "ee9e8bfd-4b86-4ddf-c96d-d389cdc0730e"
   },
   "outputs": [],
   "source": [
    "import numpy as np\n",
    "import gradio as gr\n",
    "\n",
    "def generate_tone(note, octave, duration):\n",
    "    sampling_rate = 48000\n",
    "    a4_freq, tones_from_a4 = 440, 12 * (octave - 4) + (note - 9)\n",
    "    frequency = a4_freq * 2 ** (tones_from_a4 / 12)\n",
    "    audio = np.linspace(0, int(duration), int(duration) * sampling_rate)\n",
    "    audio = (20000 * np.sin(audio * (2 * np.pi * frequency))).astype(np.int16)\n",
    "    return sampling_rate, audio\n",
    "\n",
    "gr.Interface(\n",
    "    generate_tone,\n",
    "    [\n",
    "        gr.Dropdown([\"C\", \"C#\", \"D\", \"D#\", \"E\", \"F\", \"F#\", \"G\", \"G#\", \"A\", \"A#\", \"B\"], type=\"index\"),\n",
    "        gr.Slider(4, 6, step=1),\n",
    "        gr.Number(value=1, label=\"Duration in seconds\"),\n",
    "    ],\n",
    "    \"audio\",\n",
    "    title=\"Generate a Musical Tone!\"\n",
    ").launch()"
   ]
  },
  {
   "cell_type": "markdown",
   "metadata": {
    "id": "23gD280-w-kT"
   },
   "source": [
    "**Défi n° 1** : construire une démo Gradio qui prend une image et renvoie la même image *tournée à l'envers* en moins de 10 lignes de code Python."
   ]
  },
  {
   "cell_type": "markdown",
   "metadata": {
    "id": "DSE6TZF5e9Oz"
   },
   "source": [
    "Il y a beaucoup plus d'exemples que vous pouvez essayer sur la [page de démarrage](https://gradio.app/getting_started/) de Gradio, qui couvre des fonctionnalités supplémentaires telles que :\n",
    "* L'ajout d'exemples d'entrées\n",
    "* Ajout d'un _état_ (par exemple pour les chatbots)\n",
    "* Partager facilement des démos en utilisant un paramètre appelé `share` (<-- c'est plutôt cool 😎).\n",
    "\n",
    "Il est particulièrement facile de faire une démo d'un modèle `transformers` du *Hub* de Hugging Face, en utilisant la méthode spéciale `gr.Interface.load`. \n",
    "\n",
    "Essayons un modèle de synthèse vocale construit par Facebook :"
   ]
  },
  {
   "cell_type": "code",
   "execution_count": null,
   "metadata": {},
   "outputs": [],
   "source": [
    "import gradio as gr\n",
    "\n",
    "gr.Interface.load(\"huggingface/facebook/fastspeech2-en-ljspeech\").launch();"
   ]
  },
  {
   "cell_type": "markdown",
   "metadata": {},
   "source": [
    "Voici le code pour construire une démo pour [GPT-J](https://huggingface.co/EleutherAI/gpt-j-6B), un grand modèle de langage et ajouter quelques exemples d'entrées :"
   ]
  },
  {
   "cell_type": "code",
   "execution_count": null,
   "metadata": {
    "colab": {
     "base_uri": "https://localhost:8080/",
     "height": 608
    },
    "id": "N_Cobhx8e8v9",
    "outputId": "2bac3837-feff-42ea-a577-60343f19535b"
   },
   "outputs": [],
   "source": [
    "import gradio as gr\n",
    "\n",
    "examples = [[\"The Moon's orbit around Earth has\"], [\"There once was a pineapple\"]] # L'orbite de la Lune autour de la Terre a  ,  Il était une fois un ananas\n",
    "\n",
    "gr.Interface.load(\"huggingface/EleutherAI/gpt-j-6B\", examples=examples).launch();"
   ]
  },
  {
   "cell_type": "markdown",
   "metadata": {
    "id": "EoUYf0rYksA9"
   },
   "source": [
    "**Défi n°2** : Allez sur le [*Hub* d'Hugging Face](https://huggingface.co/models) et choisissez un modèle qui effectue une des autres tâches supportées par la bibliothèque `transformers` (autres que les deux que vous venez de voir : génération de texte ou synthèse vocale). Créez une démo Gradio pour ce modèle en utilisant `gr.Interface.load`."
   ]
  },
  {
   "cell_type": "markdown",
   "metadata": {
    "id": "b6Ek7cORgDkQ"
   },
   "source": [
    "## 2. Hébergez la démo (gratuitement) sur Hugging Face *Spaces*\n",
    "\n",
    "Une fois que vous avez créé une démo Gradio, vous pouvez l'héberger de façon permanente sur *Spaces* très facilement :\n",
    "\n",
    "Voici les étapes pour cela (montrées dans le GIF ci-dessous) :\n",
    "\n",
    "A. Tout d'abord, créez un compte Hugging Face si vous n'en avez pas déjà un, en visitant https://huggingface.co/ et en cliquant sur \"*Sign Up*\".\n",
    "\n",
    "B. Une fois que vous êtes connecté, cliquez sur votre photo de profil et ensuite cliquez sur \"*New Space*\" en dessous pour arriver à cette page : https://huggingface.co/new-space\n",
    "\n",
    "C. Donnez un nom et une licence à votre *Space*. Sélectionnez \"Gradio\" comme *Space SDK*, puis choisissez \"Public\" si vous êtes d'accord pour que tout le monde accède à votre *Space* et au code sous-jacent.\n",
    "\n",
    "D. Vous trouverez ensuite une page qui vous fournira des instructions sur la façon de télécharger vos fichiers dans le dépôt Git de ce *Space*. Vous devrez peut-être aussi ajouter un fichier `requirements.txt` pour spécifier les éventuelles dépendances du *package* Python.\n",
    "\n",
    "E. Une fois que vous avez poussé vos fichiers, c'est tout ! *Spaces* construira automatiquement votre démo Gradio, ce qui vous permettra de la partager avec n'importe qui, n'importe où !\n",
    "\n",
    "![GIF](https://huggingface.co/blog/assets/28_gradio-spaces/spaces-demo-finalized.gif)\n",
    "\n"
   ]
  },
  {
   "cell_type": "markdown",
   "metadata": {
    "id": "d4XCmQ_RILoq"
   },
   "source": [
    "Vous pouvez même intégrer votre démo Gradio sur n'importe quel site web : dans un blog, un portfolio ou même dans un *notebook*, comme je l'ai fait avec un modèle de reconnaissance de croquis ci-dessous :"
   ]
  },
  {
   "cell_type": "code",
   "execution_count": null,
   "metadata": {
    "id": "IwNP5DJOKUql"
   },
   "outputs": [],
   "source": [
    "from IPython.display import IFrame\n",
    "IFrame(src='https://hf.space/gradioiframe/abidlabs/Draw/+', width=1000, height=800)"
   ]
  },
  {
   "cell_type": "markdown",
   "metadata": {
    "id": "Dw6H-iQAlF8I"
   },
   "source": [
    "**Challenge #3** : Téléchargez votre démo Gradio sur *Spaces* et obtenez une URL permanente pour celle-ci. Partagez l'URL permanente avec quelqu'un (un collègue, un collaborateur, un ami, un utilisateur, etc.). Quel type de retour obtenez-vous sur votre modèle d'apprentissage automatique ?"
   ]
  },
  {
   "cell_type": "markdown",
   "metadata": {
    "id": "MqD0O1PKIg3g"
   },
   "source": [
    "## 3. Ajoutez votre démo à l'organisation Hugging Face pour votre cours ou votre conférence"
   ]
  },
  {
   "cell_type": "markdown",
   "metadata": {
    "id": "DrMObQbwLOHm"
   },
   "source": [
    "#### **Configuration** (pour les instructeurs ou les organisateurs de conférences)"
   ]
  },
  {
   "cell_type": "markdown",
   "metadata": {
    "id": "_45C7MnXNbc0"
   },
   "source": [
    "A. Tout d'abord, créez un compte Hugging Face si vous n'en avez pas déjà un, en vous rendant sur le site https://huggingface.co/ et en cliquant sur \"*Sign Up*\".\n",
    "\n",
    "B. Une fois que vous êtes connecté, cliquez sur votre photo de profil et ensuite cliquez sur \"*New Organization*\" en dessous pour arriver à cette page : https://huggingface.co/organizations/new\n",
    "\n",
    "C. Remplissez les informations relatives à votre classe ou conférence. Nous vous recommandons de créer une organisation distincte chaque fois qu'un cours est donné (par exemple, \"Stanford-CS236g-2022\") et pour chaque année de conférence.\n",
    "\n",
    "D. Votre organisation sera créée et maintenant les utilisateurs pourront demander à être ajoutés à vos organisations en visitant la page de l'organisation.\n",
    "\n",
    "E. En option, vous pouvez modifier les paramètres en cliquant sur le bouton \"*Organization settings*\". En général, pour les cours et les conférences, vous voudrez naviguer dans `Settings > Members` et définir le \"*Default role for new members*\"  comme étant \"*write*\", ce qui leur permet de soumettre des *Spaces* mais pas de modifier les paramètres. "
   ]
  },
  {
   "cell_type": "markdown",
   "metadata": {
    "id": "iSqzO-w8LY0R"
   },
   "source": [
    "#### Pour les étudiants ou les participants à une conférence"
   ]
  },
  {
   "cell_type": "markdown",
   "metadata": {
    "id": "3x1Oyh4wOdOK"
   },
   "source": [
    "A. Demandez à votre instructeur / organisateur de conférence le lien vers la page Organisation si vous ne l'avez pas déjà.\n",
    "\n",
    "B. Visitez la page de l'organisation et cliquez sur le bouton \"*Request to join this org*\", si vous ne faites pas encore partie de l'organisation.\n",
    "\n",
    "C. Ensuite, une fois que vous avez été approuvé pour rejoindre l'organisation (et que vous avez construit votre Démo Gradio et l'avez téléchargé sur *Spaces*), allez simplement dans votre *Space* et allez dans `Settings > Rename or transfer this space` et ensuite sélectionnez le nom de l'organisation sous `New owner`. Cliquez sur le bouton et le *Space* sera maintenant ajouté à votre *Space* de classe ou de conférence !   "
   ]
  }
 ],
 "metadata": {
  "colab": {
   "collapsed_sections": [],
   "name": "Building and Hosting Machine Learning Demos with Gradio & Hugging Face",
   "provenance": []
  },
  "kernelspec": {
   "display_name": "Python 3",
   "language": "python",
   "name": "python3"
  },
  "language_info": {
   "codemirror_mode": {
    "name": "ipython",
    "version": 3
   },
   "file_extension": ".py",
   "mimetype": "text/x-python",
   "name": "python",
   "nbconvert_exporter": "python",
   "pygments_lexer": "ipython3",
   "version": "3.8.5"
  }
 },
 "nbformat": 4,
 "nbformat_minor": 1
}
