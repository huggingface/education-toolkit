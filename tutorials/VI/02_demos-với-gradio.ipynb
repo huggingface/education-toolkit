{
 "cells": [
  {
   "cell_type": "markdown",
   "metadata": {
    "id": "gh6QOr-qO4Ym"
   },
   "source": [
    "[![Open In Colab](https://colab.research.google.com/assets/colab-badge.svg)](https://colab.research.google.com/github/huggingface/education-toolkit/blob/main/02_ml-demos-with-gradio.ipynb)\n",
    "\n",
    "\n",
    "\n",
    "💡 **Chào mừng các bạn!**\n",
    "\n",
    "\n",
    "Chúng tôi đã tập hợp một bộ công cụ mà các giảng viên đại học có thể sử dụng để dễ dàng chuẩn bị cho các hội thảo, sự kiện, bài tập về nhà, hoặc lớp học. Nội dung được thiết kế hoàn toàn độc lập có thể dễ dàng kết hợp với các chương trình giảng dạy hiện có. Nội dung này hoàn toàn **miễn phí** và sử dụng các công nghệ Mã nguồn mở nổi tiếng (`transformers`, `gradio`, v.v.).\n",
    "\n",
    "Ngoài ra, bạn có thể yêu cầu ai đó trong nhóm Hugging Face thực hành các bài hướng dẫn cho lớp học của bạn thông qua [ML demo.cratization tour](https://huggingface2.notion.site/ML-Demo-cratization-tour-with-66847a294abd4e9785e85663f5239652)!\n",
    "\n",
    "Bạn có thể tìm thấy tất cả các bài hướng dẫn và tài liệu mà chúng tôi đã tổng hợp [tại đây](https://huggingface2.notion.site/Education-Toolkit-7b4a9a9d65ee4a6eb16178ec2a4f3599). "
   ]
  },
  {
   "cell_type": "markdown",
   "metadata": {
    "id": "NkJmA-r5L0EB"
   },
   "source": [
    "# Bài hướng dẫn: Xây dựng và lưu trữ bản thử nghiệm (demo) Học máy với Gradio ⚡ và Hugging Face🤗 "
   ]
  },
  {
   "cell_type": "markdown",
   "metadata": {
    "id": "D_Iv1CJZPekG"
   },
   "source": [
    "**Mục tiêu học tập:** Mục tiêu của bài hướng dẫn này là học cách:\n",
    "\n",
    "1. Xây dựng bản thử nghiệm nhanh cho mô hình Học máy của bạn bằng Python sử dụng thư viện `gradio`.\n",
    "2. Lưu trữ miễn phí các bản thử nghiệm với Hugging Face Spaces\n",
    "3. Thêm bản thử nghiệm của bạn vào tổ chức Hugging Face phục vụ cho lớp học hoặc hội nghị của bạn, bao gồm:\n",
    "  *   Bước cài đặt cho người hướng dẫn (hoặc người tổ chức hội nghị).\n",
    "  *   Tải lên bản hướng dẫn cho sinh viên (hoặc những người tham gia hội nghị).\n",
    "\n",
    "**Thời lượng**: 20-40 phút\n",
    "\n",
    "**Điều kiện cơ bản:** Kiến thức về Python và quen thuộc với các kiến thức cơ bản trong Học máy.\n",
    "\n",
    "\n",
    "**Tác giả**: [Abubakar Abid](https://twitter.com/abidlabs) (vui lòng liên hệ với tôi nếu có bất kỳ câu hỏi nào về hướng dẫn này!) \n",
    "\n",
    "Tất cả các bước trên có thể được thực hiện miễn phí! Tất cả những gì bạn cần là một trình duyệt Internet và một nơi bạn có thể viết chương trình Python 👩‍💻"
   ]
  },
  {
   "cell_type": "markdown",
   "metadata": {
    "id": "PR9faV2NWTrG"
   },
   "source": [
    "## Tại sao là bản thử nghiệm (Demos)?\n",
    "\n",
    "**Bản thử nghiệm** của các mô hình Học máy là một phần đóng vai trò ngày càng quan trọng trong các _khóa học_ và _hội nghị_ về Học máy. Bản thử nghiệm cho phép:\n",
    "\n",
    "* các nhà phát triển mô hình dễ dàng **trình bày** thành quả của họ tới nhiều đối tượng khác nhau;\n",
    "* tăng **khả năng tái tạo** của nghiên cứu Học máy;\n",
    "* các người dùng khác nhau dễ dàng **xác định và gỡ lỗi** các điểm lỗi của mô hình.\n",
    "\n",
    "\n",
    "Để lấy ví dụ nhanh về những gì chúng tôi muốn xây dựng, hãy xem [Tổ chức Keras trên Hugging Face](https://huggingface.co/keras-io), bao gồm một thẻ mô tả và một bộ sưu tập các Mô hình cũng như Không gian (Space) được xây dựng bởi Cộng đồng Keras. Bất kỳ Không gian nào có thể được mở trong trình duyệt của bạn và bạn có thể sử dụng mô hình ngay lập tức, như được hiển thị ở đây:\n",
    "\n",
    "![](https://i.ibb.co/7y6DGjB/ezgif-5-cc52b7e590.gif)\n",
    "\n",
    "\n"
   ]
  },
  {
   "cell_type": "markdown",
   "metadata": {
    "id": "g0KzbU4lQtv3"
   },
   "source": [
    "## 1. Xây dựng nhanh bản thử nghiệm mô hình Học máy trên Python bằng thư viện Gradio"
   ]
  },
  {
   "cell_type": "markdown",
   "metadata": {
    "id": "rlSs72oUQ1VW"
   },
   "source": [
    "`gradio` là một thư viện Python tiện dụng cho phép bạn xây dựng các bản thử nghiệm trên web đơn giản bằng cách xác định danh sách các thành phần **đầu vào và đầu ra** mà mô hình Học máy của bạn mong đợi.\n",
    "\n",
    "Các thành phần đầu vào và đầu ra là gì? Gradio đi kèm với một loạt các thành phần được xác định trước cho các loại mô hình Học máy khác nhau. Dưới đây là một số ví dụ:\n",
    "\n",
    "* Đối với **Mô hình loại hình ảnh**, đầu vào kì vọng là `Hình ảnh` và loại đầu ra là` Nhãn`.\n",
    "* Đối với **Mô hình nhận dạng giọng nói**, thành phần đầu vào dự kiến ​​là `Micrô` (cho phép người dùng ghi âm từ trình duyệt) hoặc` Âm thanh` (cho phép người dùng kéo và thả tệp âm thanh), trong khi đầu ra kì vọng là `Văn bản`.\n",
    "* Đối với **Mô hình vấn đáp**, chúng ta kì vọng với **2 đầu vào**: [`Văn bản`,` Văn bản`], một cho đoạn văn và một cho câu hỏi, loại đầu ra sẽ là một `Văn bản `tương ứng với câu trả lời.\n",
    "\n",
    "Bạn nắm được ý tưởng rồi đó ... (đối với tất cả các thành phần hỗ trợ, xem thêm [tài liệu](https://gradio.app/docs/))\n",
    "\n",
    "Ngoài các kiểu đầu vào và đầu ra, Gradio cần một tham số thứ ba, chính là chức năng dự đoán. Tham số này có thể là ***bất kỳ* hàm Python thông thường nào** nhận (các) tham số tương ứng với (các) thành phần đầu vào và trả về (các) giá trị tương ứng với (các) thành phần đầu ra.\n",
    "\n",
    "Lí thuyết vậy là đủ rồi. Cùng bắt tay vào những dòng mã thôi!"
   ]
  },
  {
   "cell_type": "code",
   "execution_count": null,
   "metadata": {
    "colab": {
     "base_uri": "https://localhost:8080/"
    },
    "id": "p0MkPbbZbSiP",
    "outputId": "e143c5df-5b98-46c6-f2f7-7fc7abebd3d7"
   },
   "outputs": [],
   "source": [
    "# Đầu tiên, cài đặt Gradio\n",
    "!pip install --quiet gradio"
   ]
  },
  {
   "cell_type": "code",
   "execution_count": null,
   "metadata": {
    "id": "SjTxhry8bWS7"
   },
   "outputs": [],
   "source": [
    "import numpy as np\n",
    "\n",
    "def sepia(image):\n",
    "    sepia_filter = np.array(\n",
    "        [[0.393, 0.769, 0.189], \n",
    "         [0.349, 0.686, 0.168], \n",
    "         [0.272, 0.534, 0.131]]\n",
    "    )\n",
    "    sepia_img = image.dot(sepia_filter.T)\n",
    "    sepia_img /= sepia_img.max()\n",
    "    return sepia_img"
   ]
  },
  {
   "cell_type": "code",
   "execution_count": null,
   "metadata": {
    "id": "OgqlIG2DbrJq"
   },
   "outputs": [],
   "source": [
    "import gradio as gr\n",
    "\n",
    "# Viết 1 dòng mã Python để tạo ra giao diện đơn giản\n",
    "gr.Interface(fn=sepia, inputs=\"image\", outputs=\"image\").launch();"
   ]
  },
  {
   "cell_type": "markdown",
   "metadata": {
    "id": "0TyTGpSsb7bs"
   },
   "source": [
    "Chạy đoạn mã trên sẽ tạo ra một giao diện đơn giản bên trong sổ ghi chép này cho phép bạn nhập các đầu vào ví dụ và xem đầu ra được trả về bởi hàm của bạn.\n",
    "\n",
    "Lưu ý rằng chúng tôi định nghĩa một `Giao diện` bằng cách sử dụng 3 thành phần được đề cập trước đó:\n",
    "* Một hàm chức năng\n",
    "* (Các) thành phần đầu vào\n",
    "* (Các) thành phần đầu ra\n",
    "\n",
    "Đây là một ví dụ đơn giản cho hình ảnh, nhưng nguyên tắc tương tự cũng đúng với bất kỳ loại kiểu dữ liệu nào khác. Ví dụ: đây là một giao diện tạo ra một giai điệu âm nhạc khi được cung cấp một vài tham số khác nhau (đoạn mã cụ thể bên trong `create_tone ()` không quan trọng đối với mục đích của hướng dẫn này):"
   ]
  },
  {
   "cell_type": "code",
   "execution_count": null,
   "metadata": {
    "colab": {
     "base_uri": "https://localhost:8080/",
     "height": 643
    },
    "id": "cHiZAO6ub6kA",
    "outputId": "ee9e8bfd-4b86-4ddf-c96d-d389cdc0730e"
   },
   "outputs": [],
   "source": [
    "import numpy as np\n",
    "import gradio as gr\n",
    "\n",
    "def generate_tone(note, octave, duration):\n",
    "    sampling_rate = 48000\n",
    "    a4_freq, tones_from_a4 = 440, 12 * (octave - 4) + (note - 9)\n",
    "    frequency = a4_freq * 2 ** (tones_from_a4 / 12)\n",
    "    audio = np.linspace(0, int(duration), int(duration) * sampling_rate)\n",
    "    audio = (20000 * np.sin(audio * (2 * np.pi * frequency))).astype(np.int16)\n",
    "    return sampling_rate, audio\n",
    "\n",
    "gr.Interface(\n",
    "    generate_tone,\n",
    "    [\n",
    "        gr.Dropdown([\"C\", \"C#\", \"D\", \"D#\", \"E\", \"F\", \"F#\", \"G\", \"G#\", \"A\", \"A#\", \"B\"], type=\"index\"),\n",
    "        gr.Slider(4, 6, step=1),\n",
    "        gr.Number(value=1, label=\"Duration in seconds\"),\n",
    "    ],\n",
    "    \"audio\",\n",
    "    title=\"Generate a Musical Tone!\"\n",
    ").launch()"
   ]
  },
  {
   "cell_type": "markdown",
   "metadata": {
    "id": "23gD280-w-kT"
   },
   "source": [
    "**Thử thách #1**: Xây dựng bản thử nghiệm sử dụng Gradio vỡi dữ liệu đầu vào là một hình ảnh và đầu ra trả về cùng một hình ảnh *được lật ngược* chỉ với chưa đầy 10 dòng mã Python."
   ]
  },
  {
   "cell_type": "markdown",
   "metadata": {
    "id": "DSE6TZF5e9Oz"
   },
   "source": [
    "Có rất nhiều ví dụ khác mà bạn có thể thử trong [trang khởi động](https://gradio.app/getting_started/) của Gradio, bao gồm các tính năng bổ sung như:\n",
    "* Thêm các mẫu đầu vào\n",
    "* Thêm _state_ (ví dụ: cho chatbots)\n",
    "* Chia sẻ các bản thử nghiệm dễ dàng bằng cách sử dụng một tham số gọi là `share` tương ứng chia sẻ (<- cái này khá tuyệt 😎)\n",
    "\n",
    "Đặc biệt ta có thể dễ dàng biểu diễn mô hình  `transformers` từ Model Hub của Hugging Face, bằng cách sử dụng phương pháp `gr.Interface.load` đặc biệt.\n",
    "\n",
    "Hãy thử mô hình chuyển đổi văn bản thành giọng nói do Facebook xây dựng:"
   ]
  },
  {
   "cell_type": "code",
   "execution_count": null,
   "metadata": {},
   "outputs": [],
   "source": [
    "import gradio as gr\n",
    "\n",
    "gr.Interface.load(\"huggingface/facebook/fastspeech2-en-ljspeech\").launch();"
   ]
  },
  {
   "cell_type": "markdown",
   "metadata": {},
   "source": [
    "Đây là đoạn mã để tạo bản thử nghiệm cho [GPT-J] (https://huggingface.co/EleutherAI/gpt-j-6B), một mô hình ngôn ngữ lớn và thêm một số ví dụ đầu vào:"
   ]
  },
  {
   "cell_type": "code",
   "execution_count": null,
   "metadata": {
    "colab": {
     "base_uri": "https://localhost:8080/",
     "height": 608
    },
    "id": "N_Cobhx8e8v9",
    "outputId": "2bac3837-feff-42ea-a577-60343f19535b"
   },
   "outputs": [],
   "source": [
    "import gradio as gr\n",
    "\n",
    "examples = [[\"The Moon's orbit around Earth has\"], [\"There once was a pineapple\"]]\n",
    "\n",
    "gr.Interface.load(\"huggingface/EleutherAI/gpt-j-6B\", examples=examples).launch();"
   ]
  },
  {
   "cell_type": "markdown",
   "metadata": {
    "id": "EoUYf0rYksA9"
   },
   "source": [
    "**Thử thách #2**: Truy cập [Hugging Face Model Hub](https://huggingface.co/models), và chọn một mô hình để thực hiện một trong các tác vụ khác được hỗ trợ trong thư viện `transformers` (không tính hai tác vụ bạn vừa xem: tạo văn bản và chuyển đổi văn bản thành giọng nói). Hãy tạo ra một bản thử nghiệm Gradio sử dụng `gr.Interface.load`."
   ]
  },
  {
   "cell_type": "markdown",
   "metadata": {
    "id": "b6Ek7cORgDkQ"
   },
   "source": [
    "## 2. Lưu trữ bản thử nghiệm (miễn phí) trên Hugging Face Spaces\n",
    "\n",
    "Sau khi tạo bản thử nghiệm trên Gradio, bạn có thể dễ dàng lưu trữ nó vĩnh viễn trên Hugging Spaces:\n",
    "\n",
    "Dưới đây là các bước để thực hiện điều đó (được hiển thị trong GIF bên dưới):\n",
    "\n",
    "A. Trước tiên, hãy tạo tài khoản Hugging Face nếu bạn chưa có, bằng cách truy cập https://huggingface.co/ và nhấp vào \"Sign Up\" để đăng kí.\n",
    "\n",
    "B. Sau khi bạn đã đăng nhập, hãy nhấp vào ảnh hồ sơ của bạn và sau đó bấm vào \"New Space\" tương ứng tạo Không gian mới để truy cập trang sau: https://huggingface.co/new-space.\n",
    "\n",
    "C. Đặt tên và giấy phép cho Không gian của bạn. Chọn \"Gradio\" làm không gian SDK, sau đó chọn \"Public\" tương ứng Công khai nếu bạn cảm thấy ok nếu mọi người truy cập Không gian và đoạn mã cơ bản của bạn.\n",
    "\n",
    "D. Sau đó, bạn sẽ tìm thấy một trang cung cấp cho bạn các chỉ dẫn về cách tải tệp của bạn lên kho lưu trữ Git cho Không gian đó. Bạn cũng có thể cần phải thêm tệp `requirements.txt` để chỉ định những gói Python phụ thuộc cần cài đặt.\n",
    "\n",
    "E. Khi bạn đã đẩy tệp của mình xong, vậy là xong! Spaces sẽ tự động xây dựng bản thử nghiệm Gradio của bạn và cho phép bạn chia sẻ nó với bất kỳ ai, ở bất kỳ đâu!\n",
    "\n",
    "![GIF](https://huggingface.co/blog/assets/28_gradio-spaces/spaces-demo-finalized.gif)\n",
    "\n",
    "\n",
    "\n"
   ]
  },
  {
   "cell_type": "markdown",
   "metadata": {
    "id": "d4XCmQ_RILoq"
   },
   "source": [
    "Bạn thậm chí có thể nhúng bản thử nghiệm Gradio của mình trên bất kỳ trang web nào - có thể là trang blog, portfolio, hoặc thậm chí trong sổ ghi chép colab, giống như tôi đã làm với mô hình nhận dạng phác thảo Pictionary dưới đây:"
   ]
  },
  {
   "cell_type": "code",
   "execution_count": null,
   "metadata": {
    "id": "IwNP5DJOKUql"
   },
   "outputs": [],
   "source": [
    "from IPython.display import IFrame\n",
    "IFrame(src='https://hf.space/gradioiframe/abidlabs/Draw/+', width=1000, height=800)"
   ]
  },
  {
   "cell_type": "markdown",
   "metadata": {
    "id": "Dw6H-iQAlF8I"
   },
   "source": [
    "**Thử thách #3**: Tải bản thử nghiệm Gradio của bạn lên Hugging Face Spaces và nhận URL vĩnh viễn cho nó. Chia sẻ URL cố định này với người khác (đồng nghiệp, cộng tác viên, bạn bè, người dùng, v.v.) -- bạn nhận được những phản hồi nào về mô hình Học máy của mình?"
   ]
  },
  {
   "cell_type": "markdown",
   "metadata": {
    "id": "MqD0O1PKIg3g"
   },
   "source": [
    "## 3. Thêm bản thử nghiệm của bạn vào tổ chức Hugging Face phục vụ cho lớp học hoặc hội nghị của bạn"
   ]
  },
  {
   "cell_type": "markdown",
   "metadata": {
    "id": "DrMObQbwLOHm"
   },
   "source": [
    "#### **Cài đặt** (dành cho người hướng dẫn hoặc người tổ chức hội nghị)"
   ]
  },
  {
   "cell_type": "markdown",
   "metadata": {
    "id": "_45C7MnXNbc0"
   },
   "source": [
    "A. Trước tiên, hãy tạo tài khoản Hugging Face nếu bạn chưa có, bằng cách truy cập https://huggingface.co/ và nhấp vào \"Sign Up\" để đăng kí.\n",
    "\n",
    "B. Khi bạn đã đăng nhập, hãy bấm vào ảnh hồ sơ của bạn và sau đó nhấp vào \"New Organization\" tương ứng Tổ chức mới bên dưới nó để truy cập trang này: https://huggingface.co/organizations/new.\n",
    "\n",
    "C. Điền thông tin của lớp học hoặc hội nghị của bạn. Chúng tôi khuyến khích bạn tạo một tổ chức riêng biệt mỗi khi giảng dạy một lớp học (ví dụ: \"Stanford-CS236g-20222\") và cho mỗi năm diễn ra hội nghị.\n",
    "\n",
    "D. Tổ chức của bạn sẽ được tạo ra và bây giờ người dùng có thể yêu cầu thêm chính họ vào tổ chức của bạn bằng cách truy cập trang tổ chức.\n",
    "\n",
    "E. Bạn có thể tuỳ chọn thay đổi cài đặt bằng cách nhấp vào nút \"Organization settings\" tương ứng Cài đặt tổ chức. Thông thường, đối với các lớp học và hội nghị, bạn sẽ muốn trỏ đến `Settings > Members` và đặt vai trò ghi \"write\" cho thành viên mới \"Default role for new members\", từ đó cho phép họ gửi Không gian của họ nhưng không thay đổi cài đặt."
   ]
  },
  {
   "cell_type": "markdown",
   "metadata": {
    "id": "iSqzO-w8LY0R"
   },
   "source": [
    "#### Dành cho sinh viên hoặc người tham gia hội nghị"
   ]
  },
  {
   "cell_type": "markdown",
   "metadata": {
    "id": "3x1Oyh4wOdOK"
   },
   "source": [
    "A. Yêu cầu người hướng dẫn / người tổ chức hội thảo của bạn cung cấp đưỡng dẫn liên kết đến trang Tổ chức nếu bạn chưa có.\n",
    "\n",
    "B. Truy cập trang Tổ chức và bấm vào nút \"Request to join this org\" tương ứng Yêu cầu tham gia tổ chức này, nếu bạn chưa là thành viên của tổ chức.\n",
    "\n",
    "C. Sau đó, khi bạn đã được chấp thuận tham gia tổ chức (và đã xây dựng Bản thử nghiệm Gradio của bạn và tải nó lên Spaces - xem Phần 1 và 2), sau đó chỉ cần đi tới Không gian của bạn và đi tới `Settings > Rename or transfer this space` để đổi tên hoặc chuyển không gian rồi chọn tên tổ chức trong `New owner` tương ứng Chủ sở hữu mới. Bấm nút và Không gian của bạn sẽ được thêm vào Không gian lớp học hoặc hội nghị của bạn!"
   ]
  }
 ],
 "metadata": {
  "colab": {
   "collapsed_sections": [],
   "name": "Building and Hosting Machine Learning Demos with Gradio & Hugging Face",
   "provenance": []
  },
  "kernelspec": {
   "display_name": "Python 3.8.2 64-bit",
   "language": "python",
   "name": "python3"
  },
  "language_info": {
   "codemirror_mode": {
    "name": "ipython",
    "version": 3
   },
   "file_extension": ".py",
   "mimetype": "text/x-python",
   "name": "python",
   "nbconvert_exporter": "python",
   "pygments_lexer": "ipython3",
   "version": "3.8.2"
  },
  "vscode": {
   "interpreter": {
    "hash": "31f2aee4e71d21fbe5cf8b01ff0e069b9275f58929596ceb00d14d90e3e16cd6"
   }
  }
 },
 "nbformat": 4,
 "nbformat_minor": 1
}
