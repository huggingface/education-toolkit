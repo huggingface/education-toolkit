{
 "cells": [
  {
   "cell_type": "markdown",
   "metadata": {
    "id": "gh6QOr-qO4Ym"
   },
   "source": [
    "[![Apri con Colab](https://colab.research.google.com/assets/colab-badge.svg)](https://colab.research.google.com/github/huggingface/education-toolkit/blob/main/tutorials/EN/02_ml-demos-with-gradio.ipynb)\n",
    "\n",
    "\n",
    "\n",
    "💡 **Benvenute e benvenuti!**\n",
    "\n",
    "Abbiamo raccolto un set di strumenti che possono essere usati dagli insegnanti universitari per preparare laboratori o lezioni. Il materiale è auto-contenuto in modo tale che possa essere facilmente inserito in un programma esistente. Il contenuto è gratuito e usa tecnologie open-source molto note (`transformers`, `gradio`, etc).\n",
    "\n",
    "In alternativa, puoi fare richiesta affinche qualcuno del team di Hugging Face svolga i tutorial all'interno del tuo corso tramite le iniziative di [ML Demo-cratization Tour](https://www.notion.so/ML-Demo-cratization-tour-with-66847a294abd4e9785e85663f5239652)\n",
    "\n",
    "Puoi trovare tutti i tutorial e le risorse che abbiamo accolto [qui](https://www.notion.so/Education-Toolkit-7b4a9a9d65ee4a6eb16178ec2a4f3599)."
   ]
  },
  {
   "cell_type": "markdown",
   "metadata": {
    "id": "NkJmA-r5L0EB"
   },
   "source": [
    "# Tutorial: Costruire e ospitare demo di machine learning con Gradio ⚡ & Hugging Face 🤗 "
   ]
  },
  {
   "cell_type": "markdown",
   "metadata": {
    "id": "D_Iv1CJZPekG"
   },
   "source": [
    "**Obiettivi di apprendimento:** L'obiettivo di questo tutorial è imparare come\n",
    "\n",
    "1. Costruire una rapida demo per il tuo modello di machine learning in Python usando la libreria `gradio`.\n",
    "2. Pubblicare le demo gratuitamente con Hugging Face Spaces\n",
    "3. Aggiungere la tua demo all'organizzazione Hugging Face della tua classe o conferenza. Questo include:\n",
    "  *   Una fase di configurazione per gli insegnanti (o gli organizzatori della conferenza)\n",
    "  *   Istruzioni di caricamento per gli studenti (o partecipanti alla conferenza)\n",
    "\n",
    "**Durata**: 20-40\n",
    " minuti\n",
    "\n",
    "**Prerequisiti:** Conoscenza di Python e familiarità di base con il machine learning\n",
    "\n",
    "\n",
    "**Autore**: [Abubakar Abid](https://twitter.com/abidlabs) (sentitevi liberi di contattarmi per qualsiasi domanda su questo tutorial) \n",
    "\n",
    "Tutti questi passaggi sono gratuiti! Tutto ciò di cui hai bisogno è un browser Internet e un posto dove puoi programmare in Python 👩‍💻"
   ]
  },
  {
   "cell_type": "markdown",
   "metadata": {
    "id": "PR9faV2NWTrG"
   },
   "source": [
    "## Perchè le demo?\n",
    "\n",
    "Le **demo** dei modelli di machine learning sono sempre più importanti nei _corsi_ e nelle _conferenze_ di machine learning. Le demo permettono:\n",
    "\n",
    "* agli sviluppatori di modelli, di **presentare** il loro lavoro a un vasto pubblico\n",
    "* di aumentare la **riproducibilità** nell'apprendimento automatico \n",
    "* altri utenti possono **identificare e correggere** più facilmente i punti di errore dei modelli\n",
    "\n",
    "Come rapido esempio di ciò che vorremmo costruire, dai un'occhiata all'[organizzazione Keras su Hugging Face](https://huggingface.co/keras-io). Essa include una scheda descrittiva e una raccolta di Modelli e Spaces costruiti dalla comunità Keras. Qualsiasi Space può essere aperto nel tuo browser e puoi usare il modello immediatamente, come mostrato qui: \n",
    "\n",
    "![](https://i.ibb.co/7y6DGjB/ezgif-5-cc52b7e590.gif)\n",
    "\n",
    "\n"
   ]
  },
  {
   "cell_type": "markdown",
   "metadata": {
    "id": "g0KzbU4lQtv3"
   },
   "source": [
    "## 1. Costruire rapide demo di ML in Python usando la libreria Gradio"
   ]
  },
  {
   "cell_type": "markdown",
   "metadata": {
    "id": "rlSs72oUQ1VW"
   },
   "source": [
    "`gradio` è una comoda libreria Python che vi permette di costruire demo web semplicemente specificando l'elenco dei **componenti** di input e output attesi dal vostro modello di machine learning. \n",
    "\n",
    "Cosa intendo per componenti di input e output? Gradio offre una serie di componenti predefiniti per diversi tipi di modelli di machine learning. Ecco alcuni esempi:\n",
    "\n",
    "* Per un **classificatore di immagini**, il tipo di input previsto è un `Image` e il tipo di output è un `Label`.\n",
    "* Per un **modello di riconoscimento vocale**, il componente di input previsto è un `Microphone` (che permette agli utenti di registrare dal browser) o `Audio` (che permette agli utenti di trascinare i file audio), mentre il tipo di output è `Text`.\n",
    "* Per un **modello di question answering**, ci aspettiamo **2 input**: [`Text`, `Text`], una casella di testo per il paragrafo e una per la domanda, e il tipo di output è un singolo `Text` corrispondente alla risposta. \n",
    "\n",
    "Ti sei fatto un'idea... (per tutti i componenti supportati, [consulta la documentazione](https://gradio.app/docs/))\n",
    "\n",
    "Oltre ai tipi di input e output, Gradio si aspetta un terzo parametro, che è la funzione che effettua la predizione stessa. Questo parametro può essere ***qualsiasi* funzione di Python** che prende i parametri corrispondenti ai componenti di input e restituisce i valori corrispondenti ai componenti di output.\n",
    "\n",
    "Basta parole. Vediamo un po' di codice!"
   ]
  },
  {
   "cell_type": "code",
   "execution_count": null,
   "metadata": {
    "colab": {
     "base_uri": "https://localhost:8080/"
    },
    "id": "p0MkPbbZbSiP",
    "outputId": "e143c5df-5b98-46c6-f2f7-7fc7abebd3d7"
   },
   "outputs": [
    {
     "name": "stdout",
     "output_type": "stream",
     "text": [
      "\u001b[K     |████████████████████████████████| 871 kB 5.1 MB/s \n",
      "\u001b[K     |████████████████████████████████| 2.0 MB 41.5 MB/s \n",
      "\u001b[K     |████████████████████████████████| 52 kB 787 kB/s \n",
      "\u001b[K     |████████████████████████████████| 1.1 MB 25.8 MB/s \n",
      "\u001b[K     |████████████████████████████████| 52 kB 1.1 MB/s \n",
      "\u001b[K     |████████████████████████████████| 210 kB 56.5 MB/s \n",
      "\u001b[K     |████████████████████████████████| 94 kB 2.8 MB/s \n",
      "\u001b[K     |████████████████████████████████| 271 kB 58.7 MB/s \n",
      "\u001b[K     |████████████████████████████████| 144 kB 58.8 MB/s \n",
      "\u001b[K     |████████████████████████████████| 10.9 MB 44.8 MB/s \n",
      "\u001b[K     |████████████████████████████████| 58 kB 5.3 MB/s \n",
      "\u001b[K     |████████████████████████████████| 79 kB 6.6 MB/s \n",
      "\u001b[K     |████████████████████████████████| 856 kB 60.6 MB/s \n",
      "\u001b[K     |████████████████████████████████| 61 kB 374 kB/s \n",
      "\u001b[K     |████████████████████████████████| 3.6 MB 50.0 MB/s \n",
      "\u001b[K     |████████████████████████████████| 58 kB 4.5 MB/s \n",
      "\u001b[?25h  Building wheel for ffmpy (setup.py) ... \u001b[?25l\u001b[?25hdone\n",
      "  Building wheel for python-multipart (setup.py) ... \u001b[?25l\u001b[?25hdone\n"
     ]
    }
   ],
   "source": [
    "# First, install Gradio\n",
    "!pip install --quiet gradio"
   ]
  },
  {
   "cell_type": "code",
   "execution_count": null,
   "metadata": {
    "id": "SjTxhry8bWS7"
   },
   "outputs": [],
   "source": [
    "# Define a simple \"Hello World\" function\n",
    "def greet(name):\n",
    "    return \"Hello \" + name + \"!!\""
   ]
  },
  {
   "cell_type": "code",
   "execution_count": null,
   "metadata": {
    "id": "OgqlIG2DbrJq"
   },
   "outputs": [],
   "source": [
    "# Write 2 lines of Python to create a simple GUI\n",
    "import gradio as gr\n",
    "\n",
    "gr.Interface(fn=greet, inputs=\"text\", outputs=\"text\").launch();"
   ]
  },
  {
   "cell_type": "markdown",
   "metadata": {
    "id": "0TyTGpSsb7bs"
   },
   "source": [
    "L'esecuzione del codice mostrato sopra dovrebbe produrre una semplice interfaccia grafica all'interno di questo ambiente di sviluppo. Questa ti permetterà di digitare input di esempio e vedere l'output restituito dalla vostra funzione. \n",
    "\n",
    "Puoi notare che definiamo una `Interface` usando i 3 ingredienti citati prima:\n",
    "* Una funzione\n",
    "* Uno o più componenti di Input\n",
    "* Uno o più componenti di Output\n",
    "\n",
    "Questo è un semplice esempio riguardante il testo, ma lo stesso principio vale per qualsiasi altro tipo di dato. Per esempio, ecco un'interfaccia che genera un tono musicale quando vengono forniti alcuni parametri (il codice specifico all'interno di `generate_tone()` non è importante ai fini di questo tutorial):"
   ]
  },
  {
   "cell_type": "code",
   "execution_count": null,
   "metadata": {
    "colab": {
     "base_uri": "https://localhost:8080/",
     "height": 643
    },
    "id": "cHiZAO6ub6kA",
    "outputId": "ee9e8bfd-4b86-4ddf-c96d-d389cdc0730e"
   },
   "outputs": [
    {
     "name": "stdout",
     "output_type": "stream",
     "text": [
      "Colab notebook detected. To show errors in colab notebook, set `debug=True` in `launch()`\n",
      "Running on public URL: https://20619.gradio.app\n",
      "\n",
      "This share link expires in 72 hours. For free permanent hosting, check out Spaces (https://huggingface.co/spaces)\n"
     ]
    },
    {
     "data": {
      "text/html": [
       "\n",
       "        <iframe\n",
       "            width=\"900\"\n",
       "            height=\"500\"\n",
       "            src=\"https://20619.gradio.app\"\n",
       "            frameborder=\"0\"\n",
       "            allowfullscreen\n",
       "        ></iframe>\n",
       "        "
      ],
      "text/plain": [
       "<IPython.lib.display.IFrame at 0x7f84a6eaeb10>"
      ]
     },
     "metadata": {},
     "output_type": "display_data"
    },
    {
     "data": {
      "text/plain": [
       "(<fastapi.applications.FastAPI at 0x7f84a8c6f850>,\n",
       " 'http://127.0.0.1:7860/',\n",
       " 'https://20619.gradio.app')"
      ]
     },
     "execution_count": 3,
     "metadata": {},
     "output_type": "execute_result"
    }
   ],
   "source": [
    "import numpy as np\n",
    "import gradio as gr\n",
    "\n",
    "def generate_tone(note, octave, duration):\n",
    "    sampling_rate = 48000\n",
    "    a4_freq, tones_from_a4 = 440, 12 * (octave - 4) + (note - 9)\n",
    "    frequency = a4_freq * 2 ** (tones_from_a4 / 12)\n",
    "    audio = np.linspace(0, int(duration), int(duration) * sampling_rate)\n",
    "    audio = (20000 * np.sin(audio * (2 * np.pi * frequency))).astype(np.int16)\n",
    "    return sampling_rate, audio\n",
    "\n",
    "gr.Interface(\n",
    "    generate_tone,\n",
    "    [\n",
    "        gr.inputs.Dropdown([\"C\", \"C#\", \"D\", \"D#\", \"E\", \"F\", \"F#\", \"G\", \"G#\", \"A\", \"A#\", \"B\"], type=\"index\"),\n",
    "        gr.inputs.Slider(4, 6, step=1),\n",
    "        gr.inputs.Textbox(type=\"number\", default=1, label=\"Duration in seconds\"),\n",
    "    ],\n",
    "    \"audio\",\n",
    "    title=\"Generate a Musical Tone!\"\n",
    ").launch()"
   ]
  },
  {
   "cell_type": "markdown",
   "metadata": {
    "id": "23gD280-w-kT"
   },
   "source": [
    "**Sfida #1**: costruire una demo con Gradio che permette di prendere un'immagine e applicare un filtro *seppia* usando meno di 10 righe di codice Python. Potresti trovare [questo link utile](https://www.yabirgb.com/sepia_filter/). "
   ]
  },
  {
   "cell_type": "markdown",
   "metadata": {
    "id": "DSE6TZF5e9Oz"
   },
   "source": [
    "Ci sono molti altri esempi che potete provare nella [pagina iniziale di Gradio](https://gradio.app/getting_started/), che descrivono caratteristiche aggiuntive come:\n",
    "* Aggiungere input di esempio\n",
    "* Aggiungere _stati_ (ad esempio per i chatbot)\n",
    "* Condividere facilmente le demo usando un parametro chiamato `share` (<-- questo è piuttosto figo 😎)\n",
    "\n",
    "\n",
    "È molto facile fare la demo di un modello `transformers` dall'Hub dei modelli di Hugging Face, usando il metodo speciale `gr.Interface.load`. Per esempio, ecco il codice per costruire una demo per [GPT-J](https://huggingface.co/EleutherAI/gpt-j-6B), un grande language model, e aggiungere un paio di esempi di input:"
   ]
  },
  {
   "cell_type": "code",
   "execution_count": null,
   "metadata": {
    "colab": {
     "base_uri": "https://localhost:8080/",
     "height": 608
    },
    "id": "N_Cobhx8e8v9",
    "outputId": "2bac3837-feff-42ea-a577-60343f19535b"
   },
   "outputs": [
    {
     "name": "stdout",
     "output_type": "stream",
     "text": [
      "Fetching model from: https://huggingface.co/EleutherAI/gpt-j-6B\n",
      "Colab notebook detected. To show errors in colab notebook, set `debug=True` in `launch()`\n",
      "Running on public URL: https://30262.gradio.app\n",
      "\n",
      "This share link expires in 72 hours. For free permanent hosting, check out Spaces (https://huggingface.co/spaces)\n"
     ]
    },
    {
     "data": {
      "text/html": [
       "\n",
       "        <iframe\n",
       "            width=\"900\"\n",
       "            height=\"500\"\n",
       "            src=\"https://30262.gradio.app\"\n",
       "            frameborder=\"0\"\n",
       "            allowfullscreen\n",
       "        ></iframe>\n",
       "        "
      ],
      "text/plain": [
       "<IPython.lib.display.IFrame at 0x7f1a12d753d0>"
      ]
     },
     "metadata": {},
     "output_type": "display_data"
    }
   ],
   "source": [
    "import gradio as gr\n",
    "\n",
    "examples = [[\"The Moon's orbit around Earth has\"], [\"There once was a pineapple\"]]\n",
    "\n",
    "gr.Interface.load(\"huggingface/EleutherAI/gpt-j-6B\", examples=examples).launch();"
   ]
  },
  {
   "cell_type": "markdown",
   "metadata": {
    "id": "EoUYf0rYksA9"
   },
   "source": [
    "**Sfida #2**: Vai sull'[Hub di Hugging Face](https://huggingface.co/models), e scegli un modello che esegua uno degli altri task supportati dalla libreria `transformers` (diverso dalla generazione di testo). Crea una demo Gradio per quel modello usando `gr.Interface.load`."
   ]
  },
  {
   "cell_type": "markdown",
   "metadata": {
    "id": "b6Ek7cORgDkQ"
   },
   "source": [
    "## 2. Ospita la demo (gratuitamente) su Hugging Face Spaces\n",
    "\n",
    "Una volta creata una demo con Gradio, puoi ospitarla permanentemente su Hugging Spaces molto facilmente:\n",
    "\n",
    "Ecco i passi per farlo (mostrati nella GIF qui sotto):\n",
    "\n",
    "A. Per prima cosa, crea un account Hugging Face se non ne hai già uno, visitando https://huggingface.co/ e cliccando su \"Iscriviti\" (\"Sign Up\")\n",
    "\n",
    "B. Dopo aver effettuato l'accesso, clicca sulla tua foto profilo e poi clicca su \"New Space\" sotto di essa per raggiungere a questa pagina: https://huggingface.co/new-space\n",
    "\n",
    "C. Dai un nome e una licenza al tuo space. Seleziona \"Gradio\" come SDK dello space, e poi scegli \"Public\" se ti va bene che tutti possano accedere al tuo spazio e al codice al suo interno\n",
    "\n",
    "D. Troverai una pagina che ti fornirà le istruzioni su come caricare i tuoi file nella repository Git per quello space. Potrebbe anche essere necessario aggiungere un file `requirements.txt` per specificare le dipendenze dei pacchetti Python.\n",
    "\n",
    "E. Una volta che hai caricato i tuoi file, hai finito! Lo space verrà eseguito automaticamente rendendo disponibile la demo di Gradio. Questo ti permetterà anche di condividerla con chiunque, ovunque!\n",
    "\n",
    "![GIF](https://huggingface.co/blog/assets/28_gradio-spaces/spaces-demo-finalized.gif)\n",
    "\n",
    "\n",
    "\n"
   ]
  },
  {
   "cell_type": "markdown",
   "metadata": {
    "id": "d4XCmQ_RILoq"
   },
   "source": [
    "Puoi anche includere la tua demo di Gradio su qualsiasi sito web -- in un blog, una pagina di portfolio, o anche in un notebook di colab, come ho fatto io con un modello di riconoscimento dei disegni di Pictionary che trovi qui sotto:"
   ]
  },
  {
   "cell_type": "code",
   "execution_count": null,
   "metadata": {
    "id": "IwNP5DJOKUql"
   },
   "outputs": [],
   "source": [
    "from IPython.display import IFrame\n",
    "IFrame(src='https://hf.space/gradioiframe/abidlabs/Draw/+', width=1000, height=800)"
   ]
  },
  {
   "cell_type": "markdown",
   "metadata": {
    "id": "Dw6H-iQAlF8I"
   },
   "source": [
    "**Sfida #3**: Carica la tua demo di Gradio su Hugging Face Spaces e ottieni un URL permanente. Condividi l'URL con qualcuno (un collega, un collaboratore, un amico, un utente, ecc.) -- quali sono i feedback sul tuo modello di machine learning?"
   ]
  },
  {
   "cell_type": "markdown",
   "metadata": {
    "id": "MqD0O1PKIg3g"
   },
   "source": [
    "## 3. Aggiungi la tua demo sulla pagina Hugging Face della tua organizzazione o conferenza"
   ]
  },
  {
   "cell_type": "markdown",
   "metadata": {
    "id": "DrMObQbwLOHm"
   },
   "source": [
    "#### **Setup** (per istruttori o organizzatori della conferenza)"
   ]
  },
  {
   "cell_type": "markdown",
   "metadata": {
    "id": "_45C7MnXNbc0"
   },
   "source": [
    "A. Per prima cosa, crea un account Hugging Face se non ne hai già uno, visitando https://huggingface.co/ e cliccando su \"Iscriviti\" (\"Sign Up\")\n",
    "\n",
    "B. Una volta effettuato l'accesso, clicca sulla foto del tuo profilo e poi clicca su \"Nuova Organizzazione\" (\"New Organization\") sotto di essa per arrivare a questa pagina: https://huggingface.co/organizations/new\n",
    "\n",
    "C. Compila le informazioni per la tua classe o conferenza. Raccomandiamo di creare un'organizzazione separata ogni volta che viene tenuto un corso (per esempio, \"Stanford-CS236g-2022\") e per ogni anno di conferenza.\n",
    "\n",
    "D. La tua organizzazione è pronta. Ora gli utenti potranno richiedere di aggiungersi alla tua organizzazione visitando la pagina dedicata.\n",
    "\n",
    "E. Puoi cambiare le impostazioni cliccando sul pulsante \"Impostazioni dell'organizzazione\" (\"Organization settings\"). Tipicamente, per le lezioni e le conferenze, puoi andare su `Impostazioni > Membri` (`Settings > Members`) per impostare il \"Ruolo predefinito per i nuovi membri\" (\"Default role for new members\") su \"scrittura\" (\"write\"), che permette loro di inviare i loro spaces ma non di cambiare le impostazioni. "
   ]
  },
  {
   "cell_type": "markdown",
   "metadata": {
    "id": "iSqzO-w8LY0R"
   },
   "source": [
    "#### Per gli studenti o i partecipanti alle conferenze"
   ]
  },
  {
   "cell_type": "markdown",
   "metadata": {
    "id": "3x1Oyh4wOdOK"
   },
   "source": [
    "A. Chiedi al tuo istruttore/organizzatore della conferenza il link alla pagina dell'organizzazione se non ce l'hai già\n",
    "\n",
    "B. Visita la pagina dell'organizzazione e clicca sul pulsante \"Richiedi di unirti a questa organizzazione\" (\"Request to join this org\"), se non ne fai ancora parte.\n",
    "\n",
    "C. Una volta approvata la tua richiesta (dopo aver creato la tua demo di Gradio e averla caricata su Spaces - vedi le sezioni 1 e 2), vai semplicemente al tuo Space, clicca su `Impostazioni > Rinomina o trasferisci questo spazio`  (`Settings > Rename or transfer this space`) e seleziona il nome dell'organizzazione nel campo `Nuovo proprietario` (`New owner`). Conferma cliccando sul pulsante e lo spazio sarà aggiunto alla tua classe o conferenza! "
   ]
  }
 ],
 "metadata": {
  "colab": {
   "collapsed_sections": [],
   "name": "Building and Hosting Machine Learning Demos with Gradio & Hugging Face",
   "provenance": []
  },
  "kernelspec": {
   "display_name": "Python 3",
   "language": "python",
   "name": "python3"
  },
  "language_info": {
   "codemirror_mode": {
    "name": "ipython",
    "version": 3
   },
   "file_extension": ".py",
   "mimetype": "text/x-python",
   "name": "python",
   "nbconvert_exporter": "python",
   "pygments_lexer": "ipython3",
   "version": "3.9.5"
  }
 },
 "nbformat": 4,
 "nbformat_minor": 1
}
